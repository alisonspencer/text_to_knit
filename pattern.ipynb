{
 "cells": [
  {
   "cell_type": "code",
   "execution_count": null,
   "metadata": {},
   "outputs": [],
   "source": [
    "from text_to_knitting import *\n",
    "from lyrics import text"
   ]
  },
  {
   "cell_type": "code",
   "execution_count": null,
   "metadata": {},
   "outputs": [],
   "source": [
    "lyrics = Bibliophile(text)"
   ]
  },
  {
   "cell_type": "code",
   "execution_count": null,
   "metadata": {},
   "outputs": [],
   "source": [
    "# custom_spaced_pattern = lyrics.generate_pattern(stitches_per_block=25, blocks_per_line=1)\n",
    "# print(custom_spaced_pattern)"
   ]
  },
  {
   "cell_type": "code",
   "execution_count": null,
   "metadata": {},
   "outputs": [],
   "source": [
    "left_leg_seq = [41,9]*6 + [40,10, 39,11, 38,12, 37,13, 36,14]\n",
    "gusset_seq = [37,13, 36,14, 35,15, 34,16, 33,17, 32,18, 31,19, 30,20, 29,21, 28,22, 27,23, 26,24, 25,25, 24,26]\n",
    "heel_decrease_seq = [8,7,6,5,4,3]\n",
    "sole_decrease_seq = []"
   ]
  },
  {
   "cell_type": "code",
   "execution_count": null,
   "metadata": {},
   "outputs": [],
   "source": [
    "right_leg_seq = [9,41]*6 + [10,40, 11,39, 12,38, 13,37, 14,36]\n",
    "right_gusset_seq = [13,37, 14,36, 15,35, 16,34, 17,33, 18,32, 19,31, 20,30, 21,29, 22,28, 23,27, 24,26, 25,25, 26,24]"
   ]
  },
  {
   "cell_type": "code",
   "execution_count": null,
   "metadata": {},
   "outputs": [],
   "source": [
    "left_leg = lyrics.get_next_T_sequences(left_leg_seq, start_row_num=11, seq_per_row=2, count_rows_by=4)\n",
    "print('left leg')\n",
    "print(left_leg)"
   ]
  },
  {
   "cell_type": "code",
   "execution_count": null,
   "metadata": {},
   "outputs": [],
   "source": [
    "gusset = lyrics.get_next_T_sequences(gusset_seq, start_row_num=11, seq_per_row=2, count_rows_by=4)\n",
    "print('left leg')\n",
    "print(gusset)"
   ]
  },
  {
   "cell_type": "code",
   "execution_count": null,
   "metadata": {},
   "outputs": [],
   "source": [
    "heel_decrease = lyrics.get_next_T_sequences(heel_decrease_seq, start_row_num=11, seq_per_row=2, count_rows_by=4)\n",
    "print('left leg')\n",
    "print(heel_decrease)"
   ]
  },
  {
   "cell_type": "code",
   "execution_count": null,
   "metadata": {},
   "outputs": [],
   "source": []
  },
  {
   "cell_type": "code",
   "execution_count": null,
   "metadata": {},
   "outputs": [],
   "source": []
  }
 ],
 "metadata": {
  "kernelspec": {
   "display_name": "unicat",
   "language": "python",
   "name": "python3"
  },
  "language_info": {
   "codemirror_mode": {
    "name": "ipython",
    "version": 3
   },
   "file_extension": ".py",
   "mimetype": "text/x-python",
   "name": "python",
   "nbconvert_exporter": "python",
   "pygments_lexer": "ipython3",
   "version": "3.12.0"
  }
 },
 "nbformat": 4,
 "nbformat_minor": 2
}
