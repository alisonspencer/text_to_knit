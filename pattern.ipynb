{
 "cells": [
  {
   "cell_type": "code",
   "execution_count": 1,
   "metadata": {},
   "outputs": [],
   "source": [
    "from text_to_knitting import *\n",
    "from lyrics import text"
   ]
  },
  {
   "cell_type": "code",
   "execution_count": 2,
   "metadata": {},
   "outputs": [],
   "source": [
    "lyrics = Bibliophile(text)"
   ]
  },
  {
   "cell_type": "code",
   "execution_count": 3,
   "metadata": {},
   "outputs": [],
   "source": [
    "# custom_spaced_pattern = lyrics.generate_pattern(stitches_per_block=25, blocks_per_line=1)\n",
    "# print(custom_spaced_pattern)"
   ]
  },
  {
   "cell_type": "code",
   "execution_count": 4,
   "metadata": {},
   "outputs": [],
   "source": [
    "left_leg_seq = [41,9]*6 + [40,10, 39,11, 38,12, 37,13, 36,14]\n",
    "gusset_seq = [37,13, 36,14, 35,15, 34,16, 33,17, 32,18, 31,19, 30,20, 29,21, 28,22, 27,23, 26,24, 25,25, 24,26]\n",
    "heel_decrease_seq = [8,7,6,5,4,3]\n",
    "sole_decrease_seq = []"
   ]
  },
  {
   "cell_type": "code",
   "execution_count": 5,
   "metadata": {},
   "outputs": [
    {
     "name": "stdout",
     "output_type": "stream",
     "text": [
      "\n",
      "----- \n",
      "ROW 11\n",
      "\n",
      "T1: (41) \n",
      "p1 k1 p5 k1 p4 k1 p5 k1 p5 k1 p2 k1 p4 k1 p1 k1 p5 k1 \n",
      "\n",
      "T2: (9) \n",
      "p3 k1 p5 \n",
      "\n",
      "----- \n",
      "ROW 15\n",
      "\n",
      "T1: (41) \n",
      "k2 p4 k1 p3 k1 p7 k1 p2 k1 p3 k1 p3 k1 p1 k1 p5 k1 p3 \n",
      "\n",
      "T2: (9) \n",
      "p1 k1 p7 \n",
      "\n",
      "----- \n",
      "ROW 19\n",
      "\n",
      "T1: (41) \n",
      "k1 p2 k1 p3 k1 p4 k1 p2 k1 p2 k1 p4 k1 p2 k1 p4 k1 p5 k1 p3 \n",
      "\n",
      "T2: (9) \n",
      "p4 k1 p2 k1 p1 \n",
      "\n",
      "----- \n",
      "ROW 23\n",
      "\n",
      "T1: (41) \n",
      "p2 k1 p3 k1 p2 k1 p1 k1 p4 k1 p3 k1 p3 k1 p3 k2 p2 k1 p4 k1 p3 \n",
      "\n",
      "T2: (9) \n",
      "p5 k1 p2 k1 \n",
      "\n",
      "----- \n",
      "ROW 27\n",
      "\n",
      "T1: (41) \n",
      "p8 k1 p3 k1 p1 k2 p2 k1 p4 k1 p1 k1 p4 k1 p4 k1 p4 k1 \n",
      "\n",
      "T2: (9) \n",
      "p1 k2 p1 k1 p4 \n",
      "\n",
      "----- \n",
      "ROW 31\n",
      "\n",
      "T1: (41) \n",
      "p3 k1 p4 k1 p1 k1 p4 k1 p4 k1 p1 k2 p1 k1 p5 k1 p1 k2 p2 k1 p3 \n",
      "\n",
      "T2: (9) \n",
      "p1 k1 p1 k1 p4 k1 \n",
      "\n",
      "----- \n",
      "ROW 35\n",
      "\n",
      "T1: (41) \n",
      "p4 k1 p4 k1 p1 k2 p2 k1 p8 k1 p7 k1 p3 k1 p4 \n",
      "\n",
      "T2: (9) \n",
      "p2 k1 p1 k1 p4 \n",
      "\n",
      "----- \n",
      "ROW 39\n",
      "\n",
      "T1: (40) \n",
      "k1 p5 k1 p2 k2 p2 k1 p3 k1 p5 k1 p3 k1 p3 k1 p5 k1 p2 \n",
      "\n",
      "T2: (10) \n",
      "p8 k1 p1 \n",
      "\n",
      "----- \n",
      "ROW 43\n",
      "\n",
      "T1: (39) \n",
      "p1 k1 p3 k1 p4 k2 p1 k1 p3 k1 p5 k1 p3 k1 p4 k1 p2 k1 p3 \n",
      "\n",
      "T2: (11) \n",
      "k1 p2 k1 p5 k2 \n",
      "\n",
      "----- \n",
      "ROW 47\n",
      "\n",
      "T1: (38) \n",
      "p5 k1 p3 k1 p4 k1 p2 k1 p3 k1 p2 k1 p4 k2 p5 k1 p1 \n",
      "\n",
      "T2: (12) \n",
      "p2 k1 p4 k1 p2 k1 p1 \n",
      "\n"
     ]
    }
   ],
   "source": [
    "left_leg = lyrics.get_next_T_sequences(left_leg_seq, start_row_num=11, seq_per_row=2, count_rows_by=4)\n",
    "print(left_leg)"
   ]
  },
  {
   "cell_type": "code",
   "execution_count": null,
   "metadata": {},
   "outputs": [],
   "source": []
  }
 ],
 "metadata": {
  "kernelspec": {
   "display_name": "unicat",
   "language": "python",
   "name": "python3"
  },
  "language_info": {
   "codemirror_mode": {
    "name": "ipython",
    "version": 3
   },
   "file_extension": ".py",
   "mimetype": "text/x-python",
   "name": "python",
   "nbconvert_exporter": "python",
   "pygments_lexer": "ipython3",
   "version": "3.12.0"
  }
 },
 "nbformat": 4,
 "nbformat_minor": 2
}
